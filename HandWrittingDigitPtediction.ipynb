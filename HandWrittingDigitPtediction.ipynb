{
  "nbformat": 4,
  "nbformat_minor": 0,
  "metadata": {
    "colab": {
      "provenance": []
    },
    "kernelspec": {
      "name": "python3",
      "display_name": "Python 3"
    },
    "language_info": {
      "name": "python"
    }
  },
  "cells": [
    {
      "cell_type": "markdown",
      "source": [
        "### **Import Library**"
      ],
      "metadata": {
        "id": "kOW-0DLNEyUY"
      }
    },
    {
      "cell_type": "code",
      "execution_count": null,
      "metadata": {
        "collapsed": true,
        "id": "EctaA6jSEtp8"
      },
      "outputs": [],
      "source": [
        "import numpy as np\n",
        "import matplotlib.pyplot as plt\n",
        "from sklearn.model_selection import train_test_split\n",
        "from sklearn.metrics import classification_report, confusion_matrix\n",
        "from tensorflow.keras.datasets import mnist\n",
        "from tensorflow.keras.models import Sequential\n",
        "from tensorflow.keras.layers import Dense, Dropout, Flatten\n",
        "from tensorflow.keras.layers import Conv2D, MaxPooling2D\n",
        "from tensorflow.keras.utils import to_categorical\n"
      ]
    },
    {
      "cell_type": "markdown",
      "source": [
        "### **Load and Prepare Data**"
      ],
      "metadata": {
        "id": "UnPaLYaPHJaB"
      }
    },
    {
      "cell_type": "code",
      "source": [
        "\n",
        "(X_train, y_train), (X_test, y_test) = mnist.load_data()\n",
        "\n",
        "X_train = X_train.astype('float32') / 255.0\n",
        "X_test = X_test.astype('float32') / 255.0\n",
        "\n",
        "X_train = np.expand_dims(X_train, axis=-1)\n",
        "X_test = np.expand_dims(X_test, axis=-1)\n",
        "\n",
        "y_train = to_categorical(y_train, 10)\n",
        "y_test = to_categorical(y_test, 10)\n"
      ],
      "metadata": {
        "colab": {
          "base_uri": "https://localhost:8080/"
        },
        "id": "B5K-U_RSGLCW",
        "outputId": "bb4c4480-905e-43b8-c148-b827056fa3ae"
      },
      "execution_count": null,
      "outputs": [
        {
          "output_type": "stream",
          "name": "stdout",
          "text": [
            "Downloading data from https://storage.googleapis.com/tensorflow/tf-keras-datasets/mnist.npz\n",
            "11490434/11490434 [==============================] - 0s 0us/step\n"
          ]
        }
      ]
    },
    {
      "cell_type": "markdown",
      "source": [
        "**Build the Model**"
      ],
      "metadata": {
        "id": "-Q8FesPpH0d1"
      }
    },
    {
      "cell_type": "code",
      "source": [
        "model = Sequential([\n",
        "    Conv2D(32, kernel_size=(3, 3), activation='relu', input_shape=(28, 28, 1)),\n",
        "    MaxPooling2D(pool_size=(2, 2)),\n",
        "    Dropout(0.25),\n",
        "    Flatten(),\n",
        "    Dense(128, activation='relu'),\n",
        "    Dropout(0.5),\n",
        "    Dense(10, activation='softmax')\n",
        "])\n",
        "\n",
        "model.compile(loss='categorical_crossentropy', optimizer='adam', metrics=['accuracy'])\n",
        "\n",
        "model.summary()\n"
      ],
      "metadata": {
        "colab": {
          "base_uri": "https://localhost:8080/"
        },
        "id": "21HNzwPXH9HR",
        "outputId": "40bf663a-4ca5-4a28-abcc-18f38d5a62bd"
      },
      "execution_count": null,
      "outputs": [
        {
          "output_type": "stream",
          "name": "stdout",
          "text": [
            "Model: \"sequential\"\n",
            "_________________________________________________________________\n",
            " Layer (type)                Output Shape              Param #   \n",
            "=================================================================\n",
            " conv2d (Conv2D)             (None, 26, 26, 32)        320       \n",
            "                                                                 \n",
            " max_pooling2d (MaxPooling2  (None, 13, 13, 32)        0         \n",
            " D)                                                              \n",
            "                                                                 \n",
            " dropout (Dropout)           (None, 13, 13, 32)        0         \n",
            "                                                                 \n",
            " flatten (Flatten)           (None, 5408)              0         \n",
            "                                                                 \n",
            " dense (Dense)               (None, 128)               692352    \n",
            "                                                                 \n",
            " dropout_1 (Dropout)         (None, 128)               0         \n",
            "                                                                 \n",
            " dense_1 (Dense)             (None, 10)                1290      \n",
            "                                                                 \n",
            "=================================================================\n",
            "Total params: 693962 (2.65 MB)\n",
            "Trainable params: 693962 (2.65 MB)\n",
            "Non-trainable params: 0 (0.00 Byte)\n",
            "_________________________________________________________________\n"
          ]
        }
      ]
    },
    {
      "cell_type": "markdown",
      "source": [
        "**Train the Model**"
      ],
      "metadata": {
        "id": "AJiIykfRIKS6"
      }
    },
    {
      "cell_type": "code",
      "source": [
        "history = model.fit(X_train, y_train, batch_size=128, epochs=10, validation_split=0.2)\n"
      ],
      "metadata": {
        "colab": {
          "base_uri": "https://localhost:8080/"
        },
        "id": "2bITIqR9ITO4",
        "outputId": "ddbd9d58-959f-4ea1-b99b-71b1991e4625"
      },
      "execution_count": null,
      "outputs": [
        {
          "output_type": "stream",
          "name": "stdout",
          "text": [
            "Epoch 1/10\n",
            "375/375 [==============================] - 28s 75ms/step - loss: 0.0495 - accuracy: 0.9841 - val_loss: 0.0447 - val_accuracy: 0.9874\n",
            "Epoch 2/10\n",
            "375/375 [==============================] - 27s 71ms/step - loss: 0.0464 - accuracy: 0.9853 - val_loss: 0.0458 - val_accuracy: 0.9867\n",
            "Epoch 3/10\n",
            "375/375 [==============================] - 27s 73ms/step - loss: 0.0454 - accuracy: 0.9856 - val_loss: 0.0480 - val_accuracy: 0.9865\n",
            "Epoch 4/10\n",
            "375/375 [==============================] - 26s 70ms/step - loss: 0.0412 - accuracy: 0.9868 - val_loss: 0.0420 - val_accuracy: 0.9878\n",
            "Epoch 5/10\n",
            "375/375 [==============================] - 26s 70ms/step - loss: 0.0382 - accuracy: 0.9879 - val_loss: 0.0438 - val_accuracy: 0.9872\n",
            "Epoch 6/10\n",
            "375/375 [==============================] - 27s 72ms/step - loss: 0.0359 - accuracy: 0.9879 - val_loss: 0.0451 - val_accuracy: 0.9887\n",
            "Epoch 7/10\n",
            "375/375 [==============================] - 28s 75ms/step - loss: 0.0340 - accuracy: 0.9884 - val_loss: 0.0455 - val_accuracy: 0.9887\n",
            "Epoch 8/10\n",
            "375/375 [==============================] - 28s 74ms/step - loss: 0.0318 - accuracy: 0.9895 - val_loss: 0.0445 - val_accuracy: 0.9885\n",
            "Epoch 9/10\n",
            "375/375 [==============================] - 27s 72ms/step - loss: 0.0299 - accuracy: 0.9900 - val_loss: 0.0447 - val_accuracy: 0.9883\n",
            "Epoch 10/10\n",
            "375/375 [==============================] - 26s 70ms/step - loss: 0.0289 - accuracy: 0.9899 - val_loss: 0.0458 - val_accuracy: 0.9882\n"
          ]
        }
      ]
    },
    {
      "cell_type": "markdown",
      "source": [
        "**Evaluate the Model**"
      ],
      "metadata": {
        "id": "RKHeg9rYKwGZ"
      }
    },
    {
      "cell_type": "code",
      "source": [
        "score = model.evaluate(X_test, y_test, verbose=0)\n",
        "print('Test loss:', score[0])\n",
        "print('Test accuracy:', score[1])\n",
        "\n",
        "# Confusion matrix and classification report\n",
        "y_pred = model.predict(X_test)\n",
        "y_pred_classes = np.argmax(y_pred, axis=1)\n",
        "y_true = np.argmax(y_test, axis=1)\n",
        "\n",
        "print('Confusion Matrix:')\n",
        "print(confusion_matrix(y_true, y_pred_classes))\n",
        "print('\\nClassification Report:')\n",
        "print(classification_report(y_true, y_pred_classes))\n"
      ],
      "metadata": {
        "colab": {
          "base_uri": "https://localhost:8080/"
        },
        "id": "s596j4QAK5pt",
        "outputId": "03b25990-65e6-4ed5-d9c9-a31f0da171bf"
      },
      "execution_count": null,
      "outputs": [
        {
          "output_type": "stream",
          "name": "stdout",
          "text": [
            "Test loss: 0.03733320161700249\n",
            "Test accuracy: 0.9891999959945679\n",
            "313/313 [==============================] - 2s 6ms/step\n",
            "Confusion Matrix:\n",
            "[[ 972    0    2    1    1    0    3    0    1    0]\n",
            " [   0 1133    2    0    0    0    0    0    0    0]\n",
            " [   1    1 1023    0    1    0    0    4    2    0]\n",
            " [   0    0    2 1003    0    2    0    1    2    0]\n",
            " [   0    0    0    0  980    0    0    0    0    2]\n",
            " [   2    0    0    5    0  881    4    0    0    0]\n",
            " [   3    3    0    1    3    2  944    0    2    0]\n",
            " [   0    1    7    0    0    0    0 1019    1    0]\n",
            " [   2    1    4    4    2    2    0    1  955    3]\n",
            " [   2    1    0    6    8    2    0    5    3  982]]\n",
            "\n",
            "Classification Report:\n",
            "              precision    recall  f1-score   support\n",
            "\n",
            "           0       0.99      0.99      0.99       980\n",
            "           1       0.99      1.00      1.00      1135\n",
            "           2       0.98      0.99      0.99      1032\n",
            "           3       0.98      0.99      0.99      1010\n",
            "           4       0.98      1.00      0.99       982\n",
            "           5       0.99      0.99      0.99       892\n",
            "           6       0.99      0.99      0.99       958\n",
            "           7       0.99      0.99      0.99      1028\n",
            "           8       0.99      0.98      0.98       974\n",
            "           9       0.99      0.97      0.98      1009\n",
            "\n",
            "    accuracy                           0.99     10000\n",
            "   macro avg       0.99      0.99      0.99     10000\n",
            "weighted avg       0.99      0.99      0.99     10000\n",
            "\n"
          ]
        }
      ]
    },
    {
      "cell_type": "markdown",
      "source": [
        "**Save the Model**"
      ],
      "metadata": {
        "id": "VIrXneZYLKQW"
      }
    },
    {
      "cell_type": "code",
      "source": [
        "model.save('mnist_cnn_model.h5')\n"
      ],
      "metadata": {
        "colab": {
          "base_uri": "https://localhost:8080/"
        },
        "id": "W30r88p8LM4G",
        "outputId": "4be8e2e5-7654-4f82-cae5-3828676d5eee"
      },
      "execution_count": null,
      "outputs": [
        {
          "output_type": "stream",
          "name": "stderr",
          "text": [
            "/usr/local/lib/python3.10/dist-packages/keras/src/engine/training.py:3103: UserWarning: You are saving your model as an HDF5 file via `model.save()`. This file format is considered legacy. We recommend using instead the native Keras format, e.g. `model.save('my_model.keras')`.\n",
            "  saving_api.save_model(\n"
          ]
        }
      ]
    }
  ]
}